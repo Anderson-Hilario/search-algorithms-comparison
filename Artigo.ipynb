{
  "nbformat": 4,
  "nbformat_minor": 0,
  "metadata": {
    "colab": {
      "provenance": [],
      "include_colab_link": true
    },
    "kernelspec": {
      "name": "python3",
      "display_name": "Python 3"
    },
    "language_info": {
      "name": "python"
    }
  },
  "cells": [
    {
      "cell_type": "markdown",
      "metadata": {
        "id": "view-in-github",
        "colab_type": "text"
      },
      "source": [
        "<a href=\"https://colab.research.google.com/github/Anderson-Hilario/search-algorithms-comparison/blob/master/Artigo.ipynb\" target=\"_parent\"><img src=\"https://colab.research.google.com/assets/colab-badge.svg\" alt=\"Open In Colab\"/></a>"
      ]
    },
    {
      "cell_type": "code",
      "execution_count": null,
      "metadata": {
        "colab": {
          "base_uri": "https://localhost:8080/"
        },
        "id": "dHhtvfsn0kE0",
        "outputId": "074e3c96-8f56-444c-c60b-6ea0b5823767"
      },
      "outputs": [
        {
          "output_type": "stream",
          "name": "stderr",
          "text": [
            "/usr/local/lib/python3.11/dist-packages/torchvision/models/_utils.py:223: UserWarning: Arguments other than a weight enum or `None` for 'weights' are deprecated since 0.13 and may be removed in the future. The current behavior is equivalent to passing `weights=ResNet18_Weights.IMAGENET1K_V1`. You can also use `weights=ResNet18_Weights.DEFAULT` to get the most up-to-date weights.\n",
            "  warnings.warn(msg)\n"
          ]
        },
        {
          "output_type": "stream",
          "name": "stdout",
          "text": [
            "Comida identificada: carbonara\n",
            "'carbonara' não encontrado na lista de comidas.\n"
          ]
        }
      ],
      "source": [
        "import cv2\n",
        "from torchvision import models, transforms\n",
        "from PIL import Image\n",
        "import json\n",
        "import urllib.request\n",
        "import torch\n",
        "import pandas as pd\n",
        "\n",
        "#KENJI\n",
        "url1 = 'https://raw.githubusercontent.com/Kenjiro1/TACO/refs/heads/main/taco-db-aminoacidos-2.csv'\n",
        "url2 = 'https://raw.githubusercontent.com/Kenjiro1/TACO/refs/heads/main/taco-db-aminoacidos.csv'\n",
        "url3 = 'https://raw.githubusercontent.com/Kenjiro1/TACO/refs/heads/main/taco-db-graxos-2.csv'\n",
        "url4 = 'https://raw.githubusercontent.com/Kenjiro1/TACO/refs/heads/main/taco-db-graxos.csv'\n",
        "url5='https://raw.githubusercontent.com/Kenjiro1/TACO/refs/heads/main/taco-db-graxos.csv'\n",
        "url6= 'https://raw.githubusercontent.com/Kenjiro1/TACO/refs/heads/main/taco-db-nutrientes.csv'\n",
        "# pedindo analise para descobrir qual o alimento da imagem\n",
        "model = models.resnet18(weights=True)\n",
        "model.eval()\n",
        "\n",
        "# Transforma a imagem para o formato esperado pelo modelo\n",
        "preprocess = transforms.Compose([\n",
        "    transforms.Resize(256),\n",
        "    transforms.CenterCrop(224),\n",
        "    transforms.ToTensor(),\n",
        "    transforms.Normalize(\n",
        "        mean=[0.485, 0.456, 0.406],  # valores padrão do ImageNet\n",
        "        std=[0.229, 0.224, 0.225]\n",
        "    ),\n",
        "])\n",
        "\n",
        "# Abre e prepara a imagem, convertendo para RGB\n",
        "img = Image.open(\"/content/Captura de tela 2025-08-13 220633.png\").convert('RGB')\n",
        "img_t = preprocess(img)\n",
        "batch_t = torch.unsqueeze(img_t, 0)\n",
        "\n",
        "# Faz a previsão\n",
        "with torch.no_grad():\n",
        "    out = model(batch_t)\n",
        "\n",
        "# Carrega os nomes das classes do ImageNet\n",
        "url = \"https://raw.githubusercontent.com/pytorch/hub/master/imagenet_classes.txt\"\n",
        "class_names_str = urllib.request.urlopen(url).read().decode()\n",
        "class_names = class_names_str.splitlines()\n",
        "\n",
        "\n",
        "# Mostra a previsão mais provável\n",
        "_, index = torch.max(out, 1)\n",
        "identified_food = class_names[index]\n",
        "print(\"Comida identificada:\", identified_food)\n",
        "\n",
        "# Carrega a lista de alimentos com as suas respectivas categorias e informações, carregado do arquivo csv\n",
        "lista_de_comidas = pd.DataFrame(pd.read_csv(\"/content/drive/MyDrive/Colab Notebooks/databases/db foods/nutrition.csv\"))\n",
        "#display(lista_de_comidas.head())\n",
        "\n",
        "# Encontra o alimento inserido pelo usuario na lista de comidas\n",
        "infos = None\n",
        "for food_item in lista_de_comidas['name']:\n",
        "  if identified_food.lower() in food_item.lower():\n",
        "    infos = lista_de_comidas[lista_de_comidas['name'] == food_item]\n",
        "    break  # Para a busca assim que encontrar o primeiro match\n",
        "\n",
        "if infos is not None:\n",
        "    display(infos)\n",
        "else:\n",
        "    print(f\"'{identified_food}' não encontrado na lista de comidas.\")\n",
        "\n",
        "#/content/drive/MyDrive/Colab Notebooks/databases/db foods/nutrientes_com_descricao_e_consequencias.csv"
      ]
    },
    {
      "cell_type": "code",
      "source": [
        "from google.colab import drive\n",
        "drive.mount('/content/drive')"
      ],
      "metadata": {
        "colab": {
          "base_uri": "https://localhost:8080/"
        },
        "id": "WbEUvbYrLnx9",
        "outputId": "55d21f26-0a4d-480b-f77f-c948bc361b64"
      },
      "execution_count": 1,
      "outputs": [
        {
          "output_type": "stream",
          "name": "stdout",
          "text": [
            "Mounted at /content/drive\n"
          ]
        }
      ]
    },
    {
      "cell_type": "code",
      "source": [
        "from google.colab import files\n",
        "import pandas as pd\n",
        "\n",
        "tabela = pd.DataFrame(pd.read_csv(\"/content/drive/MyDrive/Colab Notebooks/databases/db foods/nutrition.csv\"))\n",
        "df = tabela['name']\n",
        "\n",
        "# Salvando o CSV\n",
        "df.to_csv(\"dados.csv\", index=False, encoding=\"utf-8\")\n",
        "\n",
        "# Baixando o CSV para o PC\n",
        "files.download(\"dados.csv\")\n",
        "\n",
        "df.head()"
      ],
      "metadata": {
        "colab": {
          "base_uri": "https://localhost:8080/",
          "height": 241
        },
        "id": "qDCNVdCCdvxL",
        "outputId": "786508f1-4079-4e88-affb-2aaa07658c93"
      },
      "execution_count": 7,
      "outputs": [
        {
          "output_type": "display_data",
          "data": {
            "text/plain": [
              "<IPython.core.display.Javascript object>"
            ],
            "application/javascript": [
              "\n",
              "    async function download(id, filename, size) {\n",
              "      if (!google.colab.kernel.accessAllowed) {\n",
              "        return;\n",
              "      }\n",
              "      const div = document.createElement('div');\n",
              "      const label = document.createElement('label');\n",
              "      label.textContent = `Downloading \"${filename}\": `;\n",
              "      div.appendChild(label);\n",
              "      const progress = document.createElement('progress');\n",
              "      progress.max = size;\n",
              "      div.appendChild(progress);\n",
              "      document.body.appendChild(div);\n",
              "\n",
              "      const buffers = [];\n",
              "      let downloaded = 0;\n",
              "\n",
              "      const channel = await google.colab.kernel.comms.open(id);\n",
              "      // Send a message to notify the kernel that we're ready.\n",
              "      channel.send({})\n",
              "\n",
              "      for await (const message of channel.messages) {\n",
              "        // Send a message to notify the kernel that we're ready.\n",
              "        channel.send({})\n",
              "        if (message.buffers) {\n",
              "          for (const buffer of message.buffers) {\n",
              "            buffers.push(buffer);\n",
              "            downloaded += buffer.byteLength;\n",
              "            progress.value = downloaded;\n",
              "          }\n",
              "        }\n",
              "      }\n",
              "      const blob = new Blob(buffers, {type: 'application/binary'});\n",
              "      const a = document.createElement('a');\n",
              "      a.href = window.URL.createObjectURL(blob);\n",
              "      a.download = filename;\n",
              "      div.appendChild(a);\n",
              "      a.click();\n",
              "      div.remove();\n",
              "    }\n",
              "  "
            ]
          },
          "metadata": {}
        },
        {
          "output_type": "display_data",
          "data": {
            "text/plain": [
              "<IPython.core.display.Javascript object>"
            ],
            "application/javascript": [
              "download(\"download_b255fc17-308b-4429-b295-00b35f4317a4\", \"dados.csv\", 505047)"
            ]
          },
          "metadata": {}
        },
        {
          "output_type": "execute_result",
          "data": {
            "text/plain": [
              "0         Cornstarch\n",
              "1       Nuts, pecans\n",
              "2      Eggplant, raw\n",
              "3     Teff, uncooked\n",
              "4    Sherbet, orange\n",
              "Name: name, dtype: object"
            ],
            "text/html": [
              "<div>\n",
              "<style scoped>\n",
              "    .dataframe tbody tr th:only-of-type {\n",
              "        vertical-align: middle;\n",
              "    }\n",
              "\n",
              "    .dataframe tbody tr th {\n",
              "        vertical-align: top;\n",
              "    }\n",
              "\n",
              "    .dataframe thead th {\n",
              "        text-align: right;\n",
              "    }\n",
              "</style>\n",
              "<table border=\"1\" class=\"dataframe\">\n",
              "  <thead>\n",
              "    <tr style=\"text-align: right;\">\n",
              "      <th></th>\n",
              "      <th>name</th>\n",
              "    </tr>\n",
              "  </thead>\n",
              "  <tbody>\n",
              "    <tr>\n",
              "      <th>0</th>\n",
              "      <td>Cornstarch</td>\n",
              "    </tr>\n",
              "    <tr>\n",
              "      <th>1</th>\n",
              "      <td>Nuts, pecans</td>\n",
              "    </tr>\n",
              "    <tr>\n",
              "      <th>2</th>\n",
              "      <td>Eggplant, raw</td>\n",
              "    </tr>\n",
              "    <tr>\n",
              "      <th>3</th>\n",
              "      <td>Teff, uncooked</td>\n",
              "    </tr>\n",
              "    <tr>\n",
              "      <th>4</th>\n",
              "      <td>Sherbet, orange</td>\n",
              "    </tr>\n",
              "  </tbody>\n",
              "</table>\n",
              "</div><br><label><b>dtype:</b> object</label>"
            ]
          },
          "metadata": {},
          "execution_count": 7
        }
      ]
    }
  ]
}